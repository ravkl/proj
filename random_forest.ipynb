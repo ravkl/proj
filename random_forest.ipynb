{
 "cells": [
  {
   "cell_type": "code",
   "execution_count": 1,
   "metadata": {
    "ExecuteTime": {
     "end_time": "2021-04-16T08:31:21.633218Z",
     "start_time": "2021-04-16T08:31:18.005270Z"
    }
   },
   "outputs": [],
   "source": [
    "import pandas as pd\n",
    "import numpy as np\n",
    "import statsmodels.api as sm\n",
    "import matplotlib.pyplot as plt\n",
    "import gc\n",
    "import sys\n",
    "from statsmodels.formula.api import ols\n",
    "from IPython.display import clear_output\n",
    "from numba import njit, jit"
   ]
  },
  {
   "cell_type": "code",
   "execution_count": 21,
   "metadata": {
    "ExecuteTime": {
     "end_time": "2021-04-16T11:13:42.165422Z",
     "start_time": "2021-04-16T11:13:28.864950Z"
    }
   },
   "outputs": [
    {
     "data": {
      "text/html": [
       "<div>\n",
       "<style scoped>\n",
       "    .dataframe tbody tr th:only-of-type {\n",
       "        vertical-align: middle;\n",
       "    }\n",
       "\n",
       "    .dataframe tbody tr th {\n",
       "        vertical-align: top;\n",
       "    }\n",
       "\n",
       "    .dataframe thead th {\n",
       "        text-align: right;\n",
       "    }\n",
       "</style>\n",
       "<table border=\"1\" class=\"dataframe\">\n",
       "  <thead>\n",
       "    <tr style=\"text-align: right;\">\n",
       "      <th></th>\n",
       "      <th>SKU_ID</th>\n",
       "      <th>Store_ID</th>\n",
       "      <th>Date</th>\n",
       "      <th>Demand</th>\n",
       "      <th>Sales</th>\n",
       "      <th>Regular_Price</th>\n",
       "    </tr>\n",
       "  </thead>\n",
       "  <tbody>\n",
       "    <tr>\n",
       "      <th>0</th>\n",
       "      <td>114</td>\n",
       "      <td>1078</td>\n",
       "      <td>2018-07-01</td>\n",
       "      <td>2.0</td>\n",
       "      <td>2.0</td>\n",
       "      <td>30.0</td>\n",
       "    </tr>\n",
       "    <tr>\n",
       "      <th>1</th>\n",
       "      <td>114</td>\n",
       "      <td>1078</td>\n",
       "      <td>2018-08-05</td>\n",
       "      <td>2.0</td>\n",
       "      <td>0.0</td>\n",
       "      <td>30.0</td>\n",
       "    </tr>\n",
       "    <tr>\n",
       "      <th>2</th>\n",
       "      <td>114</td>\n",
       "      <td>1078</td>\n",
       "      <td>2018-08-06</td>\n",
       "      <td>2.0</td>\n",
       "      <td>0.0</td>\n",
       "      <td>30.0</td>\n",
       "    </tr>\n",
       "    <tr>\n",
       "      <th>3</th>\n",
       "      <td>114</td>\n",
       "      <td>1078</td>\n",
       "      <td>2018-08-07</td>\n",
       "      <td>2.0</td>\n",
       "      <td>0.0</td>\n",
       "      <td>30.0</td>\n",
       "    </tr>\n",
       "    <tr>\n",
       "      <th>4</th>\n",
       "      <td>114</td>\n",
       "      <td>1078</td>\n",
       "      <td>2018-08-08</td>\n",
       "      <td>2.0</td>\n",
       "      <td>0.0</td>\n",
       "      <td>30.0</td>\n",
       "    </tr>\n",
       "    <tr>\n",
       "      <th>...</th>\n",
       "      <td>...</td>\n",
       "      <td>...</td>\n",
       "      <td>...</td>\n",
       "      <td>...</td>\n",
       "      <td>...</td>\n",
       "      <td>...</td>\n",
       "    </tr>\n",
       "    <tr>\n",
       "      <th>19999995</th>\n",
       "      <td>9790</td>\n",
       "      <td>1127</td>\n",
       "      <td>2018-07-02</td>\n",
       "      <td>5.0</td>\n",
       "      <td>1.0</td>\n",
       "      <td>257.0</td>\n",
       "    </tr>\n",
       "    <tr>\n",
       "      <th>19999996</th>\n",
       "      <td>9790</td>\n",
       "      <td>1127</td>\n",
       "      <td>2018-07-03</td>\n",
       "      <td>4.0</td>\n",
       "      <td>2.0</td>\n",
       "      <td>257.0</td>\n",
       "    </tr>\n",
       "    <tr>\n",
       "      <th>19999997</th>\n",
       "      <td>9790</td>\n",
       "      <td>1127</td>\n",
       "      <td>2018-07-04</td>\n",
       "      <td>2.0</td>\n",
       "      <td>0.0</td>\n",
       "      <td>257.0</td>\n",
       "    </tr>\n",
       "    <tr>\n",
       "      <th>19999998</th>\n",
       "      <td>9790</td>\n",
       "      <td>1127</td>\n",
       "      <td>2018-07-05</td>\n",
       "      <td>2.0</td>\n",
       "      <td>0.0</td>\n",
       "      <td>257.0</td>\n",
       "    </tr>\n",
       "    <tr>\n",
       "      <th>19999999</th>\n",
       "      <td>9790</td>\n",
       "      <td>1127</td>\n",
       "      <td>2018-07-06</td>\n",
       "      <td>2.0</td>\n",
       "      <td>0.0</td>\n",
       "      <td>257.0</td>\n",
       "    </tr>\n",
       "  </tbody>\n",
       "</table>\n",
       "<p>19836905 rows × 6 columns</p>\n",
       "</div>"
      ],
      "text/plain": [
       "          SKU_ID  Store_ID        Date  Demand  Sales  Regular_Price\n",
       "0            114      1078  2018-07-01     2.0    2.0           30.0\n",
       "1            114      1078  2018-08-05     2.0    0.0           30.0\n",
       "2            114      1078  2018-08-06     2.0    0.0           30.0\n",
       "3            114      1078  2018-08-07     2.0    0.0           30.0\n",
       "4            114      1078  2018-08-08     2.0    0.0           30.0\n",
       "...          ...       ...         ...     ...    ...            ...\n",
       "19999995    9790      1127  2018-07-02     5.0    1.0          257.0\n",
       "19999996    9790      1127  2018-07-03     4.0    2.0          257.0\n",
       "19999997    9790      1127  2018-07-04     2.0    0.0          257.0\n",
       "19999998    9790      1127  2018-07-05     2.0    0.0          257.0\n",
       "19999999    9790      1127  2018-07-06     2.0    0.0          257.0\n",
       "\n",
       "[19836905 rows x 6 columns]"
      ]
     },
     "execution_count": 21,
     "metadata": {},
     "output_type": "execute_result"
    }
   ],
   "source": [
    "df = pd.read_csv('SALES_2018_2019.csv', sep=',', nrows = 20000000)\n",
    "df = df[df.stock > 0]\n",
    "df.rename(columns={'stock': 'Demand', 'store_id': 'Store_ID', 'Code_AP' : 'SKU_ID', 'curr_date': 'Date', 'sales_regular': 'Sales','price_regular':'Regular_Price'}, inplace=True)\n",
    "df.drop(columns = ['sales_promo','price_promo','flag_promo'])"
   ]
  },
  {
   "cell_type": "code",
   "execution_count": 24,
   "metadata": {
    "ExecuteTime": {
     "end_time": "2021-04-16T11:16:13.388754Z",
     "start_time": "2021-04-16T11:16:11.145243Z"
    }
   },
   "outputs": [],
   "source": [
    "df.Date = pd.to_datetime(df.Date)"
   ]
  },
  {
   "cell_type": "code",
   "execution_count": 28,
   "metadata": {
    "ExecuteTime": {
     "end_time": "2021-04-16T11:17:08.363550Z",
     "start_time": "2021-04-16T11:17:06.976640Z"
    }
   },
   "outputs": [
    {
     "data": {
      "text/plain": [
       "0          2018-07-01\n",
       "1          2018-08-05\n",
       "2          2018-08-06\n",
       "3          2018-08-07\n",
       "4          2018-08-08\n",
       "              ...    \n",
       "19999995   2018-07-02\n",
       "19999996   2018-07-03\n",
       "19999997   2018-07-04\n",
       "19999998   2018-07-05\n",
       "19999999   2018-07-06\n",
       "Name: Date, Length: 9591187, dtype: datetime64[ns]"
      ]
     },
     "execution_count": 28,
     "metadata": {},
     "output_type": "execute_result"
    }
   ],
   "source": [
    "df.Date[df.Date.dt.year == 2018] "
   ]
  },
  {
   "cell_type": "code",
   "execution_count": 23,
   "metadata": {
    "ExecuteTime": {
     "end_time": "2021-04-07T13:20:31.034713Z",
     "start_time": "2021-04-07T13:20:09.056516Z"
    },
    "scrolled": true
   },
   "outputs": [
    {
     "data": {
      "text/html": [
       "<div>\n",
       "<style scoped>\n",
       "    .dataframe tbody tr th:only-of-type {\n",
       "        vertical-align: middle;\n",
       "    }\n",
       "\n",
       "    .dataframe tbody tr th {\n",
       "        vertical-align: top;\n",
       "    }\n",
       "\n",
       "    .dataframe thead th {\n",
       "        text-align: right;\n",
       "    }\n",
       "</style>\n",
       "<table border=\"1\" class=\"dataframe\">\n",
       "  <thead>\n",
       "    <tr style=\"text-align: right;\">\n",
       "      <th></th>\n",
       "      <th>Store_ID</th>\n",
       "      <th>SKU_ID</th>\n",
       "      <th>Date</th>\n",
       "      <th>Sales</th>\n",
       "      <th>Demand</th>\n",
       "      <th>Regular_Price</th>\n",
       "    </tr>\n",
       "  </thead>\n",
       "  <tbody>\n",
       "    <tr>\n",
       "      <th>0</th>\n",
       "      <td>1100</td>\n",
       "      <td>114</td>\n",
       "      <td>01JAN2019</td>\n",
       "      <td>0.0</td>\n",
       "      <td>1.0</td>\n",
       "      <td>51.0</td>\n",
       "    </tr>\n",
       "    <tr>\n",
       "      <th>1</th>\n",
       "      <td>1078</td>\n",
       "      <td>114</td>\n",
       "      <td>01JAN2019</td>\n",
       "      <td>0.0</td>\n",
       "      <td>2.0</td>\n",
       "      <td>51.0</td>\n",
       "    </tr>\n",
       "    <tr>\n",
       "      <th>2</th>\n",
       "      <td>1191</td>\n",
       "      <td>114</td>\n",
       "      <td>01JAN2019</td>\n",
       "      <td>0.0</td>\n",
       "      <td>2.0</td>\n",
       "      <td>53.0</td>\n",
       "    </tr>\n",
       "    <tr>\n",
       "      <th>3</th>\n",
       "      <td>2230</td>\n",
       "      <td>114</td>\n",
       "      <td>01JAN2019</td>\n",
       "      <td>0.0</td>\n",
       "      <td>1.0</td>\n",
       "      <td>40.0</td>\n",
       "    </tr>\n",
       "    <tr>\n",
       "      <th>4</th>\n",
       "      <td>1120</td>\n",
       "      <td>114</td>\n",
       "      <td>01JAN2019</td>\n",
       "      <td>0.0</td>\n",
       "      <td>1.0</td>\n",
       "      <td>53.0</td>\n",
       "    </tr>\n",
       "  </tbody>\n",
       "</table>\n",
       "</div>"
      ],
      "text/plain": [
       "   Store_ID  SKU_ID       Date  Sales  Demand  Regular_Price\n",
       "0      1100     114  01JAN2019    0.0     1.0           51.0\n",
       "1      1078     114  01JAN2019    0.0     2.0           51.0\n",
       "2      1191     114  01JAN2019    0.0     2.0           53.0\n",
       "3      2230     114  01JAN2019    0.0     1.0           40.0\n",
       "4      1120     114  01JAN2019    0.0     1.0           53.0"
      ]
     },
     "execution_count": 23,
     "metadata": {},
     "output_type": "execute_result"
    }
   ],
   "source": [
    "df = pd.read_csv('DATA_WITH_SALES.csv', sep=';')\n",
    "df = df[df.Stock > 0]\n",
    "df.rename(columns={'Stock': 'Demand'}, inplace=True)\n",
    "\n",
    "df.head(n=5)"
   ]
  },
  {
   "cell_type": "code",
   "execution_count": 29,
   "metadata": {
    "ExecuteTime": {
     "end_time": "2021-04-16T11:19:20.777316Z",
     "start_time": "2021-04-16T11:19:16.193897Z"
    }
   },
   "outputs": [],
   "source": [
    "df1 = df[df.Date.dt.year == 2019] \n",
    "df = df[df.Date.dt.year == 2018] "
   ]
  },
  {
   "cell_type": "code",
   "execution_count": 30,
   "metadata": {
    "ExecuteTime": {
     "end_time": "2021-04-16T11:20:02.086819Z",
     "start_time": "2021-04-16T11:20:01.571910Z"
    }
   },
   "outputs": [],
   "source": [
    "popular_pairs = df.groupby(['SKU_ID', 'Store_ID']).size().reset_index(name='counts').sort_values(by='counts', ascending=False).reset_index(drop=True)"
   ]
  },
  {
   "cell_type": "code",
   "execution_count": 31,
   "metadata": {
    "ExecuteTime": {
     "end_time": "2021-04-16T11:20:11.432685Z",
     "start_time": "2021-04-16T11:20:11.412593Z"
    }
   },
   "outputs": [
    {
     "data": {
      "text/html": [
       "<div>\n",
       "<style scoped>\n",
       "    .dataframe tbody tr th:only-of-type {\n",
       "        vertical-align: middle;\n",
       "    }\n",
       "\n",
       "    .dataframe tbody tr th {\n",
       "        vertical-align: top;\n",
       "    }\n",
       "\n",
       "    .dataframe thead th {\n",
       "        text-align: right;\n",
       "    }\n",
       "</style>\n",
       "<table border=\"1\" class=\"dataframe\">\n",
       "  <thead>\n",
       "    <tr style=\"text-align: right;\">\n",
       "      <th></th>\n",
       "      <th>SKU_ID</th>\n",
       "      <th>Store_ID</th>\n",
       "      <th>counts</th>\n",
       "    </tr>\n",
       "  </thead>\n",
       "  <tbody>\n",
       "    <tr>\n",
       "      <th>0</th>\n",
       "      <td>2681</td>\n",
       "      <td>1179</td>\n",
       "      <td>364</td>\n",
       "    </tr>\n",
       "    <tr>\n",
       "      <th>1</th>\n",
       "      <td>1063</td>\n",
       "      <td>1199</td>\n",
       "      <td>364</td>\n",
       "    </tr>\n",
       "    <tr>\n",
       "      <th>2</th>\n",
       "      <td>678</td>\n",
       "      <td>1178</td>\n",
       "      <td>364</td>\n",
       "    </tr>\n",
       "    <tr>\n",
       "      <th>3</th>\n",
       "      <td>7340</td>\n",
       "      <td>2834</td>\n",
       "      <td>364</td>\n",
       "    </tr>\n",
       "    <tr>\n",
       "      <th>4</th>\n",
       "      <td>678</td>\n",
       "      <td>1181</td>\n",
       "      <td>364</td>\n",
       "    </tr>\n",
       "    <tr>\n",
       "      <th>5</th>\n",
       "      <td>7450</td>\n",
       "      <td>2834</td>\n",
       "      <td>364</td>\n",
       "    </tr>\n",
       "    <tr>\n",
       "      <th>6</th>\n",
       "      <td>678</td>\n",
       "      <td>1200</td>\n",
       "      <td>364</td>\n",
       "    </tr>\n",
       "    <tr>\n",
       "      <th>7</th>\n",
       "      <td>4405</td>\n",
       "      <td>1172</td>\n",
       "      <td>364</td>\n",
       "    </tr>\n",
       "    <tr>\n",
       "      <th>8</th>\n",
       "      <td>1064</td>\n",
       "      <td>1181</td>\n",
       "      <td>364</td>\n",
       "    </tr>\n",
       "    <tr>\n",
       "      <th>9</th>\n",
       "      <td>1064</td>\n",
       "      <td>1175</td>\n",
       "      <td>364</td>\n",
       "    </tr>\n",
       "  </tbody>\n",
       "</table>\n",
       "</div>"
      ],
      "text/plain": [
       "   SKU_ID  Store_ID  counts\n",
       "0    2681      1179     364\n",
       "1    1063      1199     364\n",
       "2     678      1178     364\n",
       "3    7340      2834     364\n",
       "4     678      1181     364\n",
       "5    7450      2834     364\n",
       "6     678      1200     364\n",
       "7    4405      1172     364\n",
       "8    1064      1181     364\n",
       "9    1064      1175     364"
      ]
     },
     "execution_count": 31,
     "metadata": {},
     "output_type": "execute_result"
    }
   ],
   "source": [
    "popular_pairs.head(n=10)"
   ]
  },
  {
   "cell_type": "code",
   "execution_count": 35,
   "metadata": {
    "ExecuteTime": {
     "end_time": "2021-04-16T11:21:38.945545Z",
     "start_time": "2021-04-16T11:21:38.174852Z"
    }
   },
   "outputs": [],
   "source": [
    "pairs_for_experiment = []\n",
    "num_of_pairs = 10000\n",
    "for i, r in popular_pairs.iterrows():\n",
    "    if i == num_of_pairs:\n",
    "        break\n",
    "    pairs_for_experiment.append((r['SKU_ID'], r['Store_ID']))"
   ]
  },
  {
   "cell_type": "code",
   "execution_count": 36,
   "metadata": {
    "ExecuteTime": {
     "end_time": "2021-04-16T11:21:40.562143Z",
     "start_time": "2021-04-16T11:21:40.542153Z"
    }
   },
   "outputs": [],
   "source": [
    "def transform(x, ttype):\n",
    "    '''\n",
    "    Accepts vector and performs transformation on it based on ttype\n",
    "    '''\n",
    "    if ttype == 'log':\n",
    "        return np.log1p(x)\n",
    "    \n",
    "    return np.array(x)"
   ]
  },
  {
   "cell_type": "code",
   "execution_count": 37,
   "metadata": {
    "ExecuteTime": {
     "end_time": "2021-04-16T11:21:41.296169Z",
     "start_time": "2021-04-16T11:21:41.286339Z"
    }
   },
   "outputs": [],
   "source": [
    "def coef(model):\n",
    "    \"\"\"\n",
    "    return regression coefficient of model\n",
    "    \"\"\"\n",
    "    return model.params[1] if len(model.params) > 1 else model.params[0]\n",
    "\n",
    "def pvalue(model):\n",
    "    \"\"\"\n",
    "    return regression coefficient's t-test p-value of model\n",
    "    \"\"\"\n",
    "    return model.pvalues[1] if len(model.pvalues) > 1 else model.pvalues[0]"
   ]
  },
  {
   "cell_type": "code",
   "execution_count": 38,
   "metadata": {
    "ExecuteTime": {
     "end_time": "2021-04-16T11:21:41.703013Z",
     "start_time": "2021-04-16T11:21:41.697228Z"
    }
   },
   "outputs": [],
   "source": [
    "def elasticity(X, y, model, model_type):\n",
    "    '''\n",
    "    Computes elasticity of model based on X, y, model itself and model's type\n",
    "    '''\n",
    "    if model_type == 'lin-lin':\n",
    "        return coef(model) * np.mean(X) / np.mean(y)\n",
    "    elif model_type == 'log-lin':\n",
    "        return coef(model) * np.mean(X)\n",
    "    elif model_type == 'log-log':\n",
    "        return coef(model)"
   ]
  },
  {
   "cell_type": "code",
   "execution_count": 39,
   "metadata": {
    "ExecuteTime": {
     "end_time": "2021-04-16T11:21:42.092744Z",
     "start_time": "2021-04-16T11:21:42.079688Z"
    }
   },
   "outputs": [],
   "source": [
    "def PEDmodel(X, y, model_type='lin-lin'):\n",
    "    '''\n",
    "    Makes PED model based on input data X, y and model type\n",
    "    '''\n",
    "    _types = model_type.split('-')\n",
    "    \n",
    "    act_x = transform(X, _types[1])\n",
    "    act_x = sm.add_constant(act_x)\n",
    "    \n",
    "    act_y = transform(y, _types[0])\n",
    "    \n",
    "    return sm.OLS(act_y, act_x).fit()"
   ]
  },
  {
   "cell_type": "code",
   "execution_count": 40,
   "metadata": {
    "ExecuteTime": {
     "end_time": "2021-04-16T11:21:42.392086Z",
     "start_time": "2021-04-16T11:21:42.373459Z"
    }
   },
   "outputs": [],
   "source": [
    "def get_model_stats(X, y, model, model_type):\n",
    "    '''\n",
    "    returns model's statistics\n",
    "        regression coefficient,\n",
    "        R-squared,\n",
    "        T-test p-value,\n",
    "        elasticity\n",
    "    '''\n",
    "    elas = elasticity(X, y, model, model_type)\n",
    "    \n",
    "    return coef(model), model.rsquared, pvalue(model), elas"
   ]
  },
  {
   "cell_type": "code",
   "execution_count": 41,
   "metadata": {
    "ExecuteTime": {
     "end_time": "2021-04-16T11:21:42.844680Z",
     "start_time": "2021-04-16T11:21:42.831677Z"
    }
   },
   "outputs": [],
   "source": [
    "def GeneratePEDModels(dataset):\n",
    "    model_type = 'log-log'\n",
    "    sku_id, store_id, elas, qty, ttpvalue = [], [], [], [], []\n",
    "    iter_count = 0\n",
    "\n",
    "    for good_id, shop_id in pairs_for_experiment:\n",
    "        data = dataset[(dataset.Store_ID == shop_id) & (dataset.SKU_ID == good_id)]\n",
    "        model = PEDmodel(data.Regular_Price, data.Demand, model_type)\n",
    "        \n",
    "        c, r2, tp, e = get_model_stats(data.Regular_Price, data.Demand, model, model_type)\n",
    "\n",
    "        sku_id.append(good_id)\n",
    "        store_id.append(shop_id)\n",
    "        elas.append(e)\n",
    "        ttpvalue.append(tp)\n",
    "        qty.append(data.Demand.sum() / data.shape[0])\n",
    "    \n",
    "    return pd.DataFrame({\n",
    "        'SKU': sku_id,\n",
    "        'Store': store_id,\n",
    "        'Elasticity': elas,\n",
    "        'Qty': qty,\n",
    "        'P_value': ttpvalue\n",
    "    })"
   ]
  },
  {
   "cell_type": "code",
   "execution_count": 42,
   "metadata": {
    "ExecuteTime": {
     "end_time": "2021-04-16T11:27:34.363283Z",
     "start_time": "2021-04-16T11:21:46.872988Z"
    },
    "scrolled": true
   },
   "outputs": [
    {
     "name": "stderr",
     "output_type": "stream",
     "text": [
      "C:\\Users\\User\\anaconda3\\lib\\site-packages\\statsmodels\\regression\\linear_model.py:1685: RuntimeWarning: divide by zero encountered in double_scalars\n",
      "  return 1 - self.ssr/self.centered_tss\n"
     ]
    }
   ],
   "source": [
    "trained_data = GeneratePEDModels(df)"
   ]
  },
  {
   "cell_type": "code",
   "execution_count": 43,
   "metadata": {
    "ExecuteTime": {
     "end_time": "2021-04-16T11:52:18.875422Z",
     "start_time": "2021-04-16T11:52:18.771648Z"
    },
    "run_control": {
     "marked": false
    }
   },
   "outputs": [],
   "source": [
    "trained_data.to_csv('train_data.csv')"
   ]
  },
  {
   "cell_type": "code",
   "execution_count": 59,
   "metadata": {
    "ExecuteTime": {
     "end_time": "2021-04-16T12:05:14.413486Z",
     "start_time": "2021-04-16T12:05:14.399938Z"
    }
   },
   "outputs": [],
   "source": [
    "df_train = trained_data[(trained_data.Elasticity > -10) & (trained_data.Elasticity < 0) & (trained_data.P_value < 0.05)]"
   ]
  },
  {
   "cell_type": "code",
   "execution_count": 60,
   "metadata": {
    "ExecuteTime": {
     "end_time": "2021-04-16T12:05:15.257951Z",
     "start_time": "2021-04-16T12:05:15.236465Z"
    }
   },
   "outputs": [
    {
     "data": {
      "text/html": [
       "<div>\n",
       "<style scoped>\n",
       "    .dataframe tbody tr th:only-of-type {\n",
       "        vertical-align: middle;\n",
       "    }\n",
       "\n",
       "    .dataframe tbody tr th {\n",
       "        vertical-align: top;\n",
       "    }\n",
       "\n",
       "    .dataframe thead th {\n",
       "        text-align: right;\n",
       "    }\n",
       "</style>\n",
       "<table border=\"1\" class=\"dataframe\">\n",
       "  <thead>\n",
       "    <tr style=\"text-align: right;\">\n",
       "      <th></th>\n",
       "      <th>SKU</th>\n",
       "      <th>Store</th>\n",
       "      <th>Elasticity</th>\n",
       "      <th>Qty</th>\n",
       "      <th>P_value</th>\n",
       "    </tr>\n",
       "  </thead>\n",
       "  <tbody>\n",
       "    <tr>\n",
       "      <th>0</th>\n",
       "      <td>2681</td>\n",
       "      <td>1179</td>\n",
       "      <td>-0.447167</td>\n",
       "      <td>1.390110</td>\n",
       "      <td>1.037383e-02</td>\n",
       "    </tr>\n",
       "    <tr>\n",
       "      <th>1</th>\n",
       "      <td>1063</td>\n",
       "      <td>1199</td>\n",
       "      <td>-4.003310</td>\n",
       "      <td>45.162088</td>\n",
       "      <td>1.033390e-07</td>\n",
       "    </tr>\n",
       "    <tr>\n",
       "      <th>2</th>\n",
       "      <td>678</td>\n",
       "      <td>1178</td>\n",
       "      <td>-2.517347</td>\n",
       "      <td>2.686813</td>\n",
       "      <td>3.628034e-251</td>\n",
       "    </tr>\n",
       "    <tr>\n",
       "      <th>3</th>\n",
       "      <td>7340</td>\n",
       "      <td>2834</td>\n",
       "      <td>-2.110868</td>\n",
       "      <td>8544.008242</td>\n",
       "      <td>1.684719e-06</td>\n",
       "    </tr>\n",
       "    <tr>\n",
       "      <th>7</th>\n",
       "      <td>4405</td>\n",
       "      <td>1172</td>\n",
       "      <td>-2.244969</td>\n",
       "      <td>2.730769</td>\n",
       "      <td>3.122755e-23</td>\n",
       "    </tr>\n",
       "  </tbody>\n",
       "</table>\n",
       "</div>"
      ],
      "text/plain": [
       "    SKU  Store  Elasticity          Qty        P_value\n",
       "0  2681   1179   -0.447167     1.390110   1.037383e-02\n",
       "1  1063   1199   -4.003310    45.162088   1.033390e-07\n",
       "2   678   1178   -2.517347     2.686813  3.628034e-251\n",
       "3  7340   2834   -2.110868  8544.008242   1.684719e-06\n",
       "7  4405   1172   -2.244969     2.730769   3.122755e-23"
      ]
     },
     "execution_count": 60,
     "metadata": {},
     "output_type": "execute_result"
    }
   ],
   "source": [
    "df_train.head()"
   ]
  },
  {
   "cell_type": "code",
   "execution_count": 61,
   "metadata": {
    "ExecuteTime": {
     "end_time": "2021-04-16T12:05:56.842707Z",
     "start_time": "2021-04-16T12:05:16.016947Z"
    }
   },
   "outputs": [],
   "source": [
    "product_info = pd.read_excel('PRODUCT_INF.xlsx')\n",
    "product_info.rename(columns={'Code_AP': 'SKU'}, inplace=True)"
   ]
  },
  {
   "cell_type": "code",
   "execution_count": 62,
   "metadata": {
    "ExecuteTime": {
     "end_time": "2021-04-16T12:05:57.440055Z",
     "start_time": "2021-04-16T12:05:57.426564Z"
    }
   },
   "outputs": [
    {
     "data": {
      "text/html": [
       "<div>\n",
       "<style scoped>\n",
       "    .dataframe tbody tr th:only-of-type {\n",
       "        vertical-align: middle;\n",
       "    }\n",
       "\n",
       "    .dataframe tbody tr th {\n",
       "        vertical-align: top;\n",
       "    }\n",
       "\n",
       "    .dataframe thead th {\n",
       "        text-align: right;\n",
       "    }\n",
       "</style>\n",
       "<table border=\"1\" class=\"dataframe\">\n",
       "  <thead>\n",
       "    <tr style=\"text-align: right;\">\n",
       "      <th></th>\n",
       "      <th>ProductName</th>\n",
       "      <th>SKU</th>\n",
       "      <th>ClassId</th>\n",
       "      <th>GroupId</th>\n",
       "      <th>SubGroupId</th>\n",
       "      <th>CategoryId</th>\n",
       "      <th>ClusterId</th>\n",
       "      <th>Class</th>\n",
       "      <th>Groups</th>\n",
       "      <th>SubGroups</th>\n",
       "      <th>Category</th>\n",
       "      <th>Cluster</th>\n",
       "    </tr>\n",
       "  </thead>\n",
       "  <tbody>\n",
       "    <tr>\n",
       "      <th>192058</th>\n",
       "      <td>Контролок таб.п.кш.о.20мг №14</td>\n",
       "      <td>97140</td>\n",
       "      <td>2003</td>\n",
       "      <td>2047</td>\n",
       "      <td>2099</td>\n",
       "      <td>2532</td>\n",
       "      <td>994</td>\n",
       "      <td>Лекарственные и профилактические средства</td>\n",
       "      <td>Пищеварительный тракт</td>\n",
       "      <td>Для улучшения пищеварения</td>\n",
       "      <td>Ингибиторы протонной помпы</td>\n",
       "      <td>Пантопразол</td>\n",
       "    </tr>\n",
       "  </tbody>\n",
       "</table>\n",
       "</div>"
      ],
      "text/plain": [
       "                          ProductName    SKU  ClassId  GroupId  SubGroupId  \\\n",
       "192058  Контролок таб.п.кш.о.20мг №14  97140     2003     2047        2099   \n",
       "\n",
       "        CategoryId  ClusterId                                      Class  \\\n",
       "192058        2532        994  Лекарственные и профилактические средства   \n",
       "\n",
       "                       Groups                  SubGroups  \\\n",
       "192058  Пищеварительный тракт  Для улучшения пищеварения   \n",
       "\n",
       "                          Category      Cluster  \n",
       "192058  Ингибиторы протонной помпы  Пантопразол  "
      ]
     },
     "execution_count": 62,
     "metadata": {},
     "output_type": "execute_result"
    }
   ],
   "source": [
    "product_info[product_info.SKU == 97140]"
   ]
  },
  {
   "cell_type": "code",
   "execution_count": 63,
   "metadata": {
    "ExecuteTime": {
     "end_time": "2021-04-16T12:05:57.843471Z",
     "start_time": "2021-04-16T12:05:57.813493Z"
    }
   },
   "outputs": [],
   "source": [
    "product_info = product_info[['SKU', 'ClassId', 'CategoryId', 'ClusterId']]"
   ]
  },
  {
   "cell_type": "code",
   "execution_count": 64,
   "metadata": {
    "ExecuteTime": {
     "end_time": "2021-04-16T12:05:58.233650Z",
     "start_time": "2021-04-16T12:05:58.220874Z"
    }
   },
   "outputs": [
    {
     "data": {
      "text/html": [
       "<div>\n",
       "<style scoped>\n",
       "    .dataframe tbody tr th:only-of-type {\n",
       "        vertical-align: middle;\n",
       "    }\n",
       "\n",
       "    .dataframe tbody tr th {\n",
       "        vertical-align: top;\n",
       "    }\n",
       "\n",
       "    .dataframe thead th {\n",
       "        text-align: right;\n",
       "    }\n",
       "</style>\n",
       "<table border=\"1\" class=\"dataframe\">\n",
       "  <thead>\n",
       "    <tr style=\"text-align: right;\">\n",
       "      <th></th>\n",
       "      <th>SKU</th>\n",
       "      <th>ClassId</th>\n",
       "      <th>CategoryId</th>\n",
       "      <th>ClusterId</th>\n",
       "    </tr>\n",
       "  </thead>\n",
       "  <tbody>\n",
       "    <tr>\n",
       "      <th>0</th>\n",
       "      <td>9999999</td>\n",
       "      <td>-5</td>\n",
       "      <td>-2</td>\n",
       "      <td>-1</td>\n",
       "    </tr>\n",
       "    <tr>\n",
       "      <th>1</th>\n",
       "      <td>122139</td>\n",
       "      <td>-5</td>\n",
       "      <td>-2</td>\n",
       "      <td>-1</td>\n",
       "    </tr>\n",
       "    <tr>\n",
       "      <th>2</th>\n",
       "      <td>122140</td>\n",
       "      <td>-5</td>\n",
       "      <td>-2</td>\n",
       "      <td>-1</td>\n",
       "    </tr>\n",
       "    <tr>\n",
       "      <th>3</th>\n",
       "      <td>122141</td>\n",
       "      <td>-5</td>\n",
       "      <td>-2</td>\n",
       "      <td>-1</td>\n",
       "    </tr>\n",
       "    <tr>\n",
       "      <th>4</th>\n",
       "      <td>122142</td>\n",
       "      <td>-5</td>\n",
       "      <td>-2</td>\n",
       "      <td>-1</td>\n",
       "    </tr>\n",
       "  </tbody>\n",
       "</table>\n",
       "</div>"
      ],
      "text/plain": [
       "       SKU  ClassId  CategoryId  ClusterId\n",
       "0  9999999       -5          -2         -1\n",
       "1   122139       -5          -2         -1\n",
       "2   122140       -5          -2         -1\n",
       "3   122141       -5          -2         -1\n",
       "4   122142       -5          -2         -1"
      ]
     },
     "execution_count": 64,
     "metadata": {},
     "output_type": "execute_result"
    }
   ],
   "source": [
    "product_info.head()"
   ]
  },
  {
   "cell_type": "code",
   "execution_count": 65,
   "metadata": {
    "ExecuteTime": {
     "end_time": "2021-04-16T12:05:58.610159Z",
     "start_time": "2021-04-16T12:05:58.563197Z"
    }
   },
   "outputs": [],
   "source": [
    "df_sku = df_train.join(product_info.set_index('SKU'), on='SKU')"
   ]
  },
  {
   "cell_type": "code",
   "execution_count": 66,
   "metadata": {
    "ExecuteTime": {
     "end_time": "2021-04-16T12:05:58.924296Z",
     "start_time": "2021-04-16T12:05:58.911334Z"
    }
   },
   "outputs": [
    {
     "data": {
      "text/plain": [
       "SKU           0\n",
       "Store         0\n",
       "Elasticity    0\n",
       "Qty           0\n",
       "P_value       0\n",
       "ClassId       0\n",
       "CategoryId    0\n",
       "ClusterId     0\n",
       "dtype: int64"
      ]
     },
     "execution_count": 66,
     "metadata": {},
     "output_type": "execute_result"
    }
   ],
   "source": [
    "df_sku.isna().sum()"
   ]
  },
  {
   "cell_type": "code",
   "execution_count": 67,
   "metadata": {
    "ExecuteTime": {
     "end_time": "2021-04-16T12:05:59.329898Z",
     "start_time": "2021-04-16T12:05:59.288028Z"
    }
   },
   "outputs": [
    {
     "data": {
      "text/html": [
       "<div>\n",
       "<style scoped>\n",
       "    .dataframe tbody tr th:only-of-type {\n",
       "        vertical-align: middle;\n",
       "    }\n",
       "\n",
       "    .dataframe tbody tr th {\n",
       "        vertical-align: top;\n",
       "    }\n",
       "\n",
       "    .dataframe thead th {\n",
       "        text-align: right;\n",
       "    }\n",
       "</style>\n",
       "<table border=\"1\" class=\"dataframe\">\n",
       "  <thead>\n",
       "    <tr style=\"text-align: right;\">\n",
       "      <th></th>\n",
       "      <th>SKU</th>\n",
       "      <th>Store</th>\n",
       "      <th>Elasticity</th>\n",
       "      <th>Qty</th>\n",
       "      <th>P_value</th>\n",
       "      <th>ClassId</th>\n",
       "      <th>CategoryId</th>\n",
       "      <th>ClusterId</th>\n",
       "    </tr>\n",
       "  </thead>\n",
       "  <tbody>\n",
       "    <tr>\n",
       "      <th>0</th>\n",
       "      <td>2681</td>\n",
       "      <td>1179</td>\n",
       "      <td>-0.447167</td>\n",
       "      <td>1.390110</td>\n",
       "      <td>1.037383e-02</td>\n",
       "      <td>2003</td>\n",
       "      <td>2572</td>\n",
       "      <td>51</td>\n",
       "    </tr>\n",
       "    <tr>\n",
       "      <th>1</th>\n",
       "      <td>1063</td>\n",
       "      <td>1199</td>\n",
       "      <td>-4.003310</td>\n",
       "      <td>45.162088</td>\n",
       "      <td>1.033390e-07</td>\n",
       "      <td>2003</td>\n",
       "      <td>2489</td>\n",
       "      <td>463</td>\n",
       "    </tr>\n",
       "    <tr>\n",
       "      <th>2</th>\n",
       "      <td>678</td>\n",
       "      <td>1178</td>\n",
       "      <td>-2.517347</td>\n",
       "      <td>2.686813</td>\n",
       "      <td>3.628034e-251</td>\n",
       "      <td>2003</td>\n",
       "      <td>2491</td>\n",
       "      <td>1055</td>\n",
       "    </tr>\n",
       "    <tr>\n",
       "      <th>3</th>\n",
       "      <td>7340</td>\n",
       "      <td>2834</td>\n",
       "      <td>-2.110868</td>\n",
       "      <td>8544.008242</td>\n",
       "      <td>1.684719e-06</td>\n",
       "      <td>2003</td>\n",
       "      <td>2990</td>\n",
       "      <td>1</td>\n",
       "    </tr>\n",
       "    <tr>\n",
       "      <th>7</th>\n",
       "      <td>4405</td>\n",
       "      <td>1172</td>\n",
       "      <td>-2.244969</td>\n",
       "      <td>2.730769</td>\n",
       "      <td>3.122755e-23</td>\n",
       "      <td>2003</td>\n",
       "      <td>2567</td>\n",
       "      <td>36</td>\n",
       "    </tr>\n",
       "  </tbody>\n",
       "</table>\n",
       "</div>"
      ],
      "text/plain": [
       "    SKU  Store  Elasticity          Qty        P_value  ClassId  CategoryId  \\\n",
       "0  2681   1179   -0.447167     1.390110   1.037383e-02     2003        2572   \n",
       "1  1063   1199   -4.003310    45.162088   1.033390e-07     2003        2489   \n",
       "2   678   1178   -2.517347     2.686813  3.628034e-251     2003        2491   \n",
       "3  7340   2834   -2.110868  8544.008242   1.684719e-06     2003        2990   \n",
       "7  4405   1172   -2.244969     2.730769   3.122755e-23     2003        2567   \n",
       "\n",
       "   ClusterId  \n",
       "0         51  \n",
       "1        463  \n",
       "2       1055  \n",
       "3          1  \n",
       "7         36  "
      ]
     },
     "execution_count": 67,
     "metadata": {},
     "output_type": "execute_result"
    }
   ],
   "source": [
    "df_sku.head()"
   ]
  },
  {
   "cell_type": "code",
   "execution_count": 68,
   "metadata": {
    "ExecuteTime": {
     "end_time": "2021-04-16T12:05:59.691118Z",
     "start_time": "2021-04-16T12:05:59.644687Z"
    }
   },
   "outputs": [],
   "source": [
    "store_info = pd.read_excel('LOCATION_INF.xlsx')\n",
    "store_info.rename(columns={'TradePointId': 'Store'}, inplace=True)"
   ]
  },
  {
   "cell_type": "code",
   "execution_count": 69,
   "metadata": {
    "ExecuteTime": {
     "end_time": "2021-04-16T12:06:00.036717Z",
     "start_time": "2021-04-16T12:06:00.010045Z"
    }
   },
   "outputs": [
    {
     "data": {
      "text/plain": [
       "{'ВО', 'ВОЛОГДА', 'ИНТЕРНЕТМАГАЗИН', 'ЛО', 'СПБ', 'ЧЕРЕПОВЕЦ', 'ШУШАРЫ'}"
      ]
     },
     "execution_count": 69,
     "metadata": {},
     "output_type": "execute_result"
    }
   ],
   "source": [
    "import string\n",
    "store_info['TradePointName'] = store_info['TradePointName'].str.upper()\n",
    "store_info['TradePointName'] = store_info['TradePointName'].str.split(' ').str[0]\n",
    "store_info['TradePointName'] = store_info['TradePointName'].replace(r'[{}]'.format(string.punctuation), '', regex=True)\n",
    "set(store_info['TradePointName'])"
   ]
  },
  {
   "cell_type": "code",
   "execution_count": 70,
   "metadata": {
    "ExecuteTime": {
     "end_time": "2021-04-16T12:06:00.363551Z",
     "start_time": "2021-04-16T12:06:00.350922Z"
    }
   },
   "outputs": [],
   "source": [
    "df_sku = df_sku.join(store_info.set_index('Store'), on='Store')"
   ]
  },
  {
   "cell_type": "code",
   "execution_count": 71,
   "metadata": {
    "ExecuteTime": {
     "end_time": "2021-04-16T12:06:00.788538Z",
     "start_time": "2021-04-16T12:06:00.744529Z"
    }
   },
   "outputs": [
    {
     "data": {
      "text/html": [
       "<div>\n",
       "<style scoped>\n",
       "    .dataframe tbody tr th:only-of-type {\n",
       "        vertical-align: middle;\n",
       "    }\n",
       "\n",
       "    .dataframe tbody tr th {\n",
       "        vertical-align: top;\n",
       "    }\n",
       "\n",
       "    .dataframe thead th {\n",
       "        text-align: right;\n",
       "    }\n",
       "</style>\n",
       "<table border=\"1\" class=\"dataframe\">\n",
       "  <thead>\n",
       "    <tr style=\"text-align: right;\">\n",
       "      <th></th>\n",
       "      <th>SKU</th>\n",
       "      <th>Store</th>\n",
       "      <th>Elasticity</th>\n",
       "      <th>Qty</th>\n",
       "      <th>P_value</th>\n",
       "      <th>ClassId</th>\n",
       "      <th>CategoryId</th>\n",
       "      <th>ClusterId</th>\n",
       "      <th>TradePointCode</th>\n",
       "      <th>TradePointName</th>\n",
       "      <th>OpenDate</th>\n",
       "      <th>CloseDate</th>\n",
       "      <th>BrandName</th>\n",
       "      <th>BrandGroupId</th>\n",
       "      <th>Brands_GUID</th>\n",
       "      <th>BE_Id</th>\n",
       "      <th>BE_Name</th>\n",
       "      <th>BE_GUID</th>\n",
       "    </tr>\n",
       "  </thead>\n",
       "  <tbody>\n",
       "    <tr>\n",
       "      <th>0</th>\n",
       "      <td>2681</td>\n",
       "      <td>1179</td>\n",
       "      <td>-0.447167</td>\n",
       "      <td>1.390110</td>\n",
       "      <td>1.037383e-02</td>\n",
       "      <td>2003</td>\n",
       "      <td>2572</td>\n",
       "      <td>51</td>\n",
       "      <td>А01178</td>\n",
       "      <td>СПБ</td>\n",
       "      <td>2017-10-07</td>\n",
       "      <td>2100-01-01</td>\n",
       "      <td>Озерки</td>\n",
       "      <td>3.0</td>\n",
       "      <td>E378FD87-0BB5-E984-11E8-54EE74216F5D</td>\n",
       "      <td>25.0</td>\n",
       "      <td>БЕ Озерки СЗ</td>\n",
       "      <td>5000DB80-9356-86BC-11E8-82B3A92564D8</td>\n",
       "    </tr>\n",
       "    <tr>\n",
       "      <th>1</th>\n",
       "      <td>1063</td>\n",
       "      <td>1199</td>\n",
       "      <td>-4.003310</td>\n",
       "      <td>45.162088</td>\n",
       "      <td>1.033390e-07</td>\n",
       "      <td>2003</td>\n",
       "      <td>2489</td>\n",
       "      <td>463</td>\n",
       "      <td>А01198</td>\n",
       "      <td>СПБ</td>\n",
       "      <td>2017-12-14</td>\n",
       "      <td>2100-01-01</td>\n",
       "      <td>Озерки</td>\n",
       "      <td>3.0</td>\n",
       "      <td>E378FD87-0BB5-E984-11E8-54EE74216F5D</td>\n",
       "      <td>25.0</td>\n",
       "      <td>БЕ Озерки СЗ</td>\n",
       "      <td>5000DB80-9356-86BC-11E8-82B3A92564D8</td>\n",
       "    </tr>\n",
       "    <tr>\n",
       "      <th>2</th>\n",
       "      <td>678</td>\n",
       "      <td>1178</td>\n",
       "      <td>-2.517347</td>\n",
       "      <td>2.686813</td>\n",
       "      <td>3.628034e-251</td>\n",
       "      <td>2003</td>\n",
       "      <td>2491</td>\n",
       "      <td>1055</td>\n",
       "      <td>А01177</td>\n",
       "      <td>СПБ</td>\n",
       "      <td>2017-09-29</td>\n",
       "      <td>2100-01-01</td>\n",
       "      <td>Озерки</td>\n",
       "      <td>3.0</td>\n",
       "      <td>E378FD87-0BB5-E984-11E8-54EE74216F5D</td>\n",
       "      <td>25.0</td>\n",
       "      <td>БЕ Озерки СЗ</td>\n",
       "      <td>5000DB80-9356-86BC-11E8-82B3A92564D8</td>\n",
       "    </tr>\n",
       "    <tr>\n",
       "      <th>3</th>\n",
       "      <td>7340</td>\n",
       "      <td>2834</td>\n",
       "      <td>-2.110868</td>\n",
       "      <td>8544.008242</td>\n",
       "      <td>1.684719e-06</td>\n",
       "      <td>2003</td>\n",
       "      <td>2990</td>\n",
       "      <td>1</td>\n",
       "      <td>А02829</td>\n",
       "      <td>ИНТЕРНЕТМАГАЗИН</td>\n",
       "      <td>2019-01-01</td>\n",
       "      <td>2100-01-01</td>\n",
       "      <td>Озерки</td>\n",
       "      <td>3.0</td>\n",
       "      <td>E378FD87-0BB5-E984-11E8-54EE74216F5D</td>\n",
       "      <td>25.0</td>\n",
       "      <td>БЕ Озерки СЗ</td>\n",
       "      <td>5000DB80-9356-86BC-11E8-82B3A92564D8</td>\n",
       "    </tr>\n",
       "    <tr>\n",
       "      <th>7</th>\n",
       "      <td>4405</td>\n",
       "      <td>1172</td>\n",
       "      <td>-2.244969</td>\n",
       "      <td>2.730769</td>\n",
       "      <td>3.122755e-23</td>\n",
       "      <td>2003</td>\n",
       "      <td>2567</td>\n",
       "      <td>36</td>\n",
       "      <td>А01171</td>\n",
       "      <td>СПБ</td>\n",
       "      <td>2017-10-12</td>\n",
       "      <td>2100-01-01</td>\n",
       "      <td>Озерки</td>\n",
       "      <td>3.0</td>\n",
       "      <td>E378FD87-0BB5-E984-11E8-54EE74216F5D</td>\n",
       "      <td>25.0</td>\n",
       "      <td>БЕ Озерки СЗ</td>\n",
       "      <td>5000DB80-9356-86BC-11E8-82B3A92564D8</td>\n",
       "    </tr>\n",
       "    <tr>\n",
       "      <th>...</th>\n",
       "      <td>...</td>\n",
       "      <td>...</td>\n",
       "      <td>...</td>\n",
       "      <td>...</td>\n",
       "      <td>...</td>\n",
       "      <td>...</td>\n",
       "      <td>...</td>\n",
       "      <td>...</td>\n",
       "      <td>...</td>\n",
       "      <td>...</td>\n",
       "      <td>...</td>\n",
       "      <td>...</td>\n",
       "      <td>...</td>\n",
       "      <td>...</td>\n",
       "      <td>...</td>\n",
       "      <td>...</td>\n",
       "      <td>...</td>\n",
       "      <td>...</td>\n",
       "    </tr>\n",
       "    <tr>\n",
       "      <th>9990</th>\n",
       "      <td>2009</td>\n",
       "      <td>1109</td>\n",
       "      <td>-1.547954</td>\n",
       "      <td>6.663818</td>\n",
       "      <td>2.907010e-06</td>\n",
       "      <td>2003</td>\n",
       "      <td>2855</td>\n",
       "      <td>43</td>\n",
       "      <td>А01108</td>\n",
       "      <td>СПБ</td>\n",
       "      <td>2015-04-27</td>\n",
       "      <td>2100-01-01</td>\n",
       "      <td>Озерки</td>\n",
       "      <td>3.0</td>\n",
       "      <td>E378FD87-0BB5-E984-11E8-54EE74216F5D</td>\n",
       "      <td>25.0</td>\n",
       "      <td>БЕ Озерки СЗ</td>\n",
       "      <td>5000DB80-9356-86BC-11E8-82B3A92564D8</td>\n",
       "    </tr>\n",
       "    <tr>\n",
       "      <th>9991</th>\n",
       "      <td>2725</td>\n",
       "      <td>1077</td>\n",
       "      <td>-6.016319</td>\n",
       "      <td>28.660969</td>\n",
       "      <td>2.255930e-07</td>\n",
       "      <td>2003</td>\n",
       "      <td>2905</td>\n",
       "      <td>459</td>\n",
       "      <td>А01076</td>\n",
       "      <td>СПБ</td>\n",
       "      <td>2005-06-01</td>\n",
       "      <td>2100-01-01</td>\n",
       "      <td>Озерки</td>\n",
       "      <td>3.0</td>\n",
       "      <td>E378FD87-0BB5-E984-11E8-54EE74216F5D</td>\n",
       "      <td>25.0</td>\n",
       "      <td>БЕ Озерки СЗ</td>\n",
       "      <td>5000DB80-9356-86BC-11E8-82B3A92564D8</td>\n",
       "    </tr>\n",
       "    <tr>\n",
       "      <th>9993</th>\n",
       "      <td>2675</td>\n",
       "      <td>1169</td>\n",
       "      <td>-1.001991</td>\n",
       "      <td>2.558405</td>\n",
       "      <td>2.079537e-04</td>\n",
       "      <td>2003</td>\n",
       "      <td>2928</td>\n",
       "      <td>917</td>\n",
       "      <td>А01168</td>\n",
       "      <td>СПБ</td>\n",
       "      <td>2017-10-10</td>\n",
       "      <td>2100-01-01</td>\n",
       "      <td>Озерки</td>\n",
       "      <td>3.0</td>\n",
       "      <td>E378FD87-0BB5-E984-11E8-54EE74216F5D</td>\n",
       "      <td>25.0</td>\n",
       "      <td>БЕ Озерки СЗ</td>\n",
       "      <td>5000DB80-9356-86BC-11E8-82B3A92564D8</td>\n",
       "    </tr>\n",
       "    <tr>\n",
       "      <th>9994</th>\n",
       "      <td>2675</td>\n",
       "      <td>1129</td>\n",
       "      <td>-2.263983</td>\n",
       "      <td>2.678063</td>\n",
       "      <td>1.444232e-15</td>\n",
       "      <td>2003</td>\n",
       "      <td>2928</td>\n",
       "      <td>917</td>\n",
       "      <td>А01128</td>\n",
       "      <td>СПБ</td>\n",
       "      <td>2016-09-20</td>\n",
       "      <td>2018-12-31</td>\n",
       "      <td>Озерки</td>\n",
       "      <td>3.0</td>\n",
       "      <td>E378FD87-0BB5-E984-11E8-54EE74216F5D</td>\n",
       "      <td>25.0</td>\n",
       "      <td>БЕ Озерки СЗ</td>\n",
       "      <td>5000DB80-9356-86BC-11E8-82B3A92564D8</td>\n",
       "    </tr>\n",
       "    <tr>\n",
       "      <th>9997</th>\n",
       "      <td>1916</td>\n",
       "      <td>1173</td>\n",
       "      <td>-2.720940</td>\n",
       "      <td>3.977208</td>\n",
       "      <td>4.438982e-11</td>\n",
       "      <td>2003</td>\n",
       "      <td>2489</td>\n",
       "      <td>465</td>\n",
       "      <td>А01172</td>\n",
       "      <td>СПБ</td>\n",
       "      <td>2017-10-11</td>\n",
       "      <td>2100-01-01</td>\n",
       "      <td>Озерки</td>\n",
       "      <td>3.0</td>\n",
       "      <td>E378FD87-0BB5-E984-11E8-54EE74216F5D</td>\n",
       "      <td>25.0</td>\n",
       "      <td>БЕ Озерки СЗ</td>\n",
       "      <td>5000DB80-9356-86BC-11E8-82B3A92564D8</td>\n",
       "    </tr>\n",
       "  </tbody>\n",
       "</table>\n",
       "<p>5381 rows × 18 columns</p>\n",
       "</div>"
      ],
      "text/plain": [
       "       SKU  Store  Elasticity          Qty        P_value  ClassId  \\\n",
       "0     2681   1179   -0.447167     1.390110   1.037383e-02     2003   \n",
       "1     1063   1199   -4.003310    45.162088   1.033390e-07     2003   \n",
       "2      678   1178   -2.517347     2.686813  3.628034e-251     2003   \n",
       "3     7340   2834   -2.110868  8544.008242   1.684719e-06     2003   \n",
       "7     4405   1172   -2.244969     2.730769   3.122755e-23     2003   \n",
       "...    ...    ...         ...          ...            ...      ...   \n",
       "9990  2009   1109   -1.547954     6.663818   2.907010e-06     2003   \n",
       "9991  2725   1077   -6.016319    28.660969   2.255930e-07     2003   \n",
       "9993  2675   1169   -1.001991     2.558405   2.079537e-04     2003   \n",
       "9994  2675   1129   -2.263983     2.678063   1.444232e-15     2003   \n",
       "9997  1916   1173   -2.720940     3.977208   4.438982e-11     2003   \n",
       "\n",
       "      CategoryId  ClusterId TradePointCode   TradePointName   OpenDate  \\\n",
       "0           2572         51         А01178              СПБ 2017-10-07   \n",
       "1           2489        463         А01198              СПБ 2017-12-14   \n",
       "2           2491       1055         А01177              СПБ 2017-09-29   \n",
       "3           2990          1         А02829  ИНТЕРНЕТМАГАЗИН 2019-01-01   \n",
       "7           2567         36         А01171              СПБ 2017-10-12   \n",
       "...          ...        ...            ...              ...        ...   \n",
       "9990        2855         43         А01108              СПБ 2015-04-27   \n",
       "9991        2905        459         А01076              СПБ 2005-06-01   \n",
       "9993        2928        917         А01168              СПБ 2017-10-10   \n",
       "9994        2928        917         А01128              СПБ 2016-09-20   \n",
       "9997        2489        465         А01172              СПБ 2017-10-11   \n",
       "\n",
       "      CloseDate BrandName  BrandGroupId                           Brands_GUID  \\\n",
       "0    2100-01-01    Озерки           3.0  E378FD87-0BB5-E984-11E8-54EE74216F5D   \n",
       "1    2100-01-01    Озерки           3.0  E378FD87-0BB5-E984-11E8-54EE74216F5D   \n",
       "2    2100-01-01    Озерки           3.0  E378FD87-0BB5-E984-11E8-54EE74216F5D   \n",
       "3    2100-01-01    Озерки           3.0  E378FD87-0BB5-E984-11E8-54EE74216F5D   \n",
       "7    2100-01-01    Озерки           3.0  E378FD87-0BB5-E984-11E8-54EE74216F5D   \n",
       "...         ...       ...           ...                                   ...   \n",
       "9990 2100-01-01    Озерки           3.0  E378FD87-0BB5-E984-11E8-54EE74216F5D   \n",
       "9991 2100-01-01    Озерки           3.0  E378FD87-0BB5-E984-11E8-54EE74216F5D   \n",
       "9993 2100-01-01    Озерки           3.0  E378FD87-0BB5-E984-11E8-54EE74216F5D   \n",
       "9994 2018-12-31    Озерки           3.0  E378FD87-0BB5-E984-11E8-54EE74216F5D   \n",
       "9997 2100-01-01    Озерки           3.0  E378FD87-0BB5-E984-11E8-54EE74216F5D   \n",
       "\n",
       "      BE_Id       BE_Name                               BE_GUID  \n",
       "0      25.0  БЕ Озерки СЗ  5000DB80-9356-86BC-11E8-82B3A92564D8  \n",
       "1      25.0  БЕ Озерки СЗ  5000DB80-9356-86BC-11E8-82B3A92564D8  \n",
       "2      25.0  БЕ Озерки СЗ  5000DB80-9356-86BC-11E8-82B3A92564D8  \n",
       "3      25.0  БЕ Озерки СЗ  5000DB80-9356-86BC-11E8-82B3A92564D8  \n",
       "7      25.0  БЕ Озерки СЗ  5000DB80-9356-86BC-11E8-82B3A92564D8  \n",
       "...     ...           ...                                   ...  \n",
       "9990   25.0  БЕ Озерки СЗ  5000DB80-9356-86BC-11E8-82B3A92564D8  \n",
       "9991   25.0  БЕ Озерки СЗ  5000DB80-9356-86BC-11E8-82B3A92564D8  \n",
       "9993   25.0  БЕ Озерки СЗ  5000DB80-9356-86BC-11E8-82B3A92564D8  \n",
       "9994   25.0  БЕ Озерки СЗ  5000DB80-9356-86BC-11E8-82B3A92564D8  \n",
       "9997   25.0  БЕ Озерки СЗ  5000DB80-9356-86BC-11E8-82B3A92564D8  \n",
       "\n",
       "[5381 rows x 18 columns]"
      ]
     },
     "execution_count": 71,
     "metadata": {},
     "output_type": "execute_result"
    }
   ],
   "source": [
    "df_sku"
   ]
  },
  {
   "cell_type": "code",
   "execution_count": 72,
   "metadata": {
    "ExecuteTime": {
     "end_time": "2021-04-16T12:06:01.131631Z",
     "start_time": "2021-04-16T12:06:01.104971Z"
    }
   },
   "outputs": [
    {
     "data": {
      "text/plain": [
       "SKU                0\n",
       "Store              0\n",
       "Elasticity         0\n",
       "Qty                0\n",
       "P_value            0\n",
       "ClassId            0\n",
       "CategoryId         0\n",
       "ClusterId          0\n",
       "TradePointCode    42\n",
       "TradePointName    42\n",
       "OpenDate          42\n",
       "CloseDate         42\n",
       "BrandName         42\n",
       "BrandGroupId      42\n",
       "Brands_GUID       42\n",
       "BE_Id             42\n",
       "BE_Name           42\n",
       "BE_GUID           42\n",
       "dtype: int64"
      ]
     },
     "execution_count": 72,
     "metadata": {},
     "output_type": "execute_result"
    }
   ],
   "source": [
    "df_sku.isna().sum()"
   ]
  },
  {
   "cell_type": "code",
   "execution_count": 73,
   "metadata": {
    "ExecuteTime": {
     "end_time": "2021-04-16T12:08:31.137219Z",
     "start_time": "2021-04-16T12:08:31.117598Z"
    }
   },
   "outputs": [],
   "source": [
    "df_sku = df_sku.rename(columns = {'TradePointName': 'Region'})"
   ]
  },
  {
   "cell_type": "code",
   "execution_count": 74,
   "metadata": {
    "ExecuteTime": {
     "end_time": "2021-04-16T12:08:32.307283Z",
     "start_time": "2021-04-16T12:08:32.285711Z"
    }
   },
   "outputs": [
    {
     "data": {
      "text/plain": [
       "3    184\n",
       "Name: BrandGroupId, dtype: int64"
      ]
     },
     "execution_count": 74,
     "metadata": {},
     "output_type": "execute_result"
    }
   ],
   "source": [
    "store_info.BrandGroupId.value_counts()"
   ]
  },
  {
   "cell_type": "code",
   "execution_count": 75,
   "metadata": {
    "ExecuteTime": {
     "end_time": "2021-04-16T12:08:33.103228Z",
     "start_time": "2021-04-16T12:08:33.079251Z"
    }
   },
   "outputs": [
    {
     "data": {
      "text/plain": [
       "25    184\n",
       "Name: BE_Id, dtype: int64"
      ]
     },
     "execution_count": 75,
     "metadata": {},
     "output_type": "execute_result"
    }
   ],
   "source": [
    "store_info.BE_Id.value_counts()"
   ]
  },
  {
   "cell_type": "code",
   "execution_count": 76,
   "metadata": {
    "ExecuteTime": {
     "end_time": "2021-04-16T12:08:35.193583Z",
     "start_time": "2021-04-16T12:08:35.168551Z"
    }
   },
   "outputs": [
    {
     "data": {
      "text/plain": [
       "E378FD87-0BB5-E984-11E8-54EE74216F5D    184\n",
       "Name: Brands_GUID, dtype: int64"
      ]
     },
     "execution_count": 76,
     "metadata": {},
     "output_type": "execute_result"
    }
   ],
   "source": [
    "store_info.Brands_GUID.value_counts()"
   ]
  },
  {
   "cell_type": "code",
   "execution_count": 77,
   "metadata": {
    "ExecuteTime": {
     "end_time": "2021-04-16T12:08:37.462242Z",
     "start_time": "2021-04-16T12:08:37.426347Z"
    }
   },
   "outputs": [],
   "source": [
    "import time\n",
    "df_sku['OpenDate'] = pd.to_datetime(df_sku.OpenDate)\n",
    "#cur_date = time.mktime(time.strptime('01/01/2019', \"%d/%m/%Y\"))\n",
    "df_sku['OpenDate'] = df_sku['OpenDate'].rsub(pd.Timestamp('today')).dt.days\n",
    "df_sku.rename(columns={'OpenDate' : 'DaysOpen'}, inplace = True)\n"
   ]
  },
  {
   "cell_type": "code",
   "execution_count": 87,
   "metadata": {
    "ExecuteTime": {
     "end_time": "2021-04-16T12:12:13.053635Z",
     "start_time": "2021-04-16T12:12:13.043628Z"
    }
   },
   "outputs": [],
   "source": [
    "df_sku.DaysOpen = df_sku['DaysOpen'].fillna(0)"
   ]
  },
  {
   "cell_type": "code",
   "execution_count": 88,
   "metadata": {
    "ExecuteTime": {
     "end_time": "2021-04-16T12:12:15.289920Z",
     "start_time": "2021-04-16T12:12:15.254911Z"
    }
   },
   "outputs": [
    {
     "name": "stdout",
     "output_type": "stream",
     "text": [
      "       SKU  Store  ClassId  CategoryId  ClusterId  DaysOpen  ВО  ВОЛОГДА  \\\n",
      "0     2681   1179     2003        2572         51    1287.0   0        0   \n",
      "1     1063   1199     2003        2489        463    1219.0   0        0   \n",
      "2      678   1178     2003        2491       1055    1295.0   0        0   \n",
      "3     7340   2834     2003        2990          1     836.0   0        0   \n",
      "7     4405   1172     2003        2567         36    1282.0   0        0   \n",
      "...    ...    ...      ...         ...        ...       ...  ..      ...   \n",
      "9990  2009   1109     2003        2855         43    2181.0   0        0   \n",
      "9991  2725   1077     2003        2905        459    5798.0   0        0   \n",
      "9993  2675   1169     2003        2928        917    1284.0   0        0   \n",
      "9994  2675   1129     2003        2928        917    1669.0   0        0   \n",
      "9997  1916   1173     2003        2489        465    1283.0   0        0   \n",
      "\n",
      "      ИНТЕРНЕТМАГАЗИН  ЛО  СПБ  ЧЕРЕПОВЕЦ  \n",
      "0                   0   0    1          0  \n",
      "1                   0   0    1          0  \n",
      "2                   0   0    1          0  \n",
      "3                   1   0    0          0  \n",
      "7                   0   0    1          0  \n",
      "...               ...  ..  ...        ...  \n",
      "9990                0   0    1          0  \n",
      "9991                0   0    1          0  \n",
      "9993                0   0    1          0  \n",
      "9994                0   0    1          0  \n",
      "9997                0   0    1          0  \n",
      "\n",
      "[5381 rows x 12 columns]\n"
     ]
    }
   ],
   "source": [
    "X = df_sku[['SKU', 'Store', 'ClassId', 'CategoryId', 'ClusterId', 'Region', 'DaysOpen']]\n",
    "one_hot = pd.get_dummies(X['Region'])\n",
    "# Drop column B as it is now encoded\n",
    "X = X.drop('Region',axis = 1)\n",
    "# Join the encoded df\n",
    "X = X.join(one_hot)\n",
    "print(X)\n",
    "X = X.to_numpy()  \n",
    "y = df_sku['Elasticity'].to_numpy()"
   ]
  },
  {
   "cell_type": "code",
   "execution_count": 89,
   "metadata": {
    "ExecuteTime": {
     "end_time": "2021-04-16T12:12:15.850663Z",
     "start_time": "2021-04-16T12:12:15.836544Z"
    }
   },
   "outputs": [],
   "source": [
    "from sklearn.model_selection import train_test_split\n",
    "\n",
    "X_train, X_test, y_train, y_test = train_test_split(X, y, test_size=0.1, random_state=42)"
   ]
  },
  {
   "cell_type": "code",
   "execution_count": 94,
   "metadata": {
    "ExecuteTime": {
     "end_time": "2021-04-16T12:14:44.540488Z",
     "start_time": "2021-04-16T12:14:43.328969Z"
    }
   },
   "outputs": [],
   "source": [
    "from sklearn.ensemble import RandomForestRegressor\n",
    "from sklearn.metrics import mean_squared_error\n",
    "rf = RandomForestRegressor()\n",
    "reg = rf.fit(X_train, y_train)"
   ]
  },
  {
   "cell_type": "code",
   "execution_count": 95,
   "metadata": {
    "ExecuteTime": {
     "end_time": "2021-04-16T12:14:45.147429Z",
     "start_time": "2021-04-16T12:14:45.100146Z"
    }
   },
   "outputs": [
    {
     "data": {
      "text/plain": [
       "3.7350339589563415"
      ]
     },
     "execution_count": 95,
     "metadata": {},
     "output_type": "execute_result"
    }
   ],
   "source": [
    "mean_squared_error(y_test, reg.predict(X_test))"
   ]
  },
  {
   "cell_type": "code",
   "execution_count": 96,
   "metadata": {
    "ExecuteTime": {
     "end_time": "2021-04-16T12:14:47.109964Z",
     "start_time": "2021-04-16T12:14:46.939077Z"
    }
   },
   "outputs": [
    {
     "data": {
      "text/plain": [
       "Text(0, 0.5, 'Predictions')"
      ]
     },
     "execution_count": 96,
     "metadata": {},
     "output_type": "execute_result"
    },
    {
     "data": {
      "image/png": "[encoded data removed]",
      "text/plain": [
       "<Figure size 432x288 with 1 Axes>"
      ]
     },
     "metadata": {
      "needs_background": "light"
     },
     "output_type": "display_data"
    }
   ],
   "source": [
    "plt.scatter(y_test, reg.predict(X_test))\n",
    "plt.xlabel(\"True Values\")\n",
    "plt.ylabel(\"Predictions\")"
   ]
  },
  {
   "cell_type": "markdown",
   "metadata": {},
   "source": [
    "# RandomForest"
   ]
  },
  {
   "cell_type": "markdown",
   "metadata": {},
   "source": [
    "## подбор гипер параметров"
   ]
  },
  {
   "cell_type": "code",
   "execution_count": 97,
   "metadata": {
    "ExecuteTime": {
     "end_time": "2021-04-16T12:16:58.999582Z",
     "start_time": "2021-04-16T12:14:49.670461Z"
    }
   },
   "outputs": [
    {
     "name": "stdout",
     "output_type": "stream",
     "text": [
      "Fitting 6 folds for each of 144 candidates, totalling 864 fits\n"
     ]
    },
    {
     "name": "stderr",
     "output_type": "stream",
     "text": [
      "[Parallel(n_jobs=-1)]: Using backend LokyBackend with 8 concurrent workers.\n",
      "[Parallel(n_jobs=-1)]: Done  25 tasks      | elapsed:    4.4s\n",
      "[Parallel(n_jobs=-1)]: Done 146 tasks      | elapsed:   16.2s\n",
      "[Parallel(n_jobs=-1)]: Done 349 tasks      | elapsed:   42.8s\n",
      "[Parallel(n_jobs=-1)]: Done 632 tasks      | elapsed:  1.5min\n",
      "[Parallel(n_jobs=-1)]: Done 864 out of 864 | elapsed:  2.1min finished\n"
     ]
    },
    {
     "name": "stdout",
     "output_type": "stream",
     "text": [
      "{'bootstrap': True, 'max_depth': 4, 'min_samples_leaf': 3, 'min_samples_split': 8, 'n_estimators': 100}\n",
      "4.03584433332205\n"
     ]
    },
    {
     "data": {
      "image/png": "[encoded data removed]",
      "text/plain": [
       "<Figure size 792x576 with 1 Axes>"
      ]
     },
     "metadata": {
      "needs_background": "light"
     },
     "output_type": "display_data"
    }
   ],
   "source": [
    "from sklearn.model_selection import GridSearchCV\n",
    "import seaborn as sns\n",
    "import pandas as pd\n",
    "\n",
    "def plot_cv_results(cv_results, param_x, param_z, metric='mean_test_score'):\n",
    "    \"\"\"\n",
    "    cv_results - cv_results_ attribute of a GridSearchCV instance (or similar)\n",
    "    param_x - name of grid search parameter to plot on x axis\n",
    "    param_z - name of grid search parameter to plot by line color\n",
    "    \"\"\"\n",
    "    cv_results = pd.DataFrame(cv_results)\n",
    "    col_x = 'param_' + param_x\n",
    "    col_z = 'param_' + param_z\n",
    "    fig, ax = plt.subplots(1, 1, figsize=(11, 8))\n",
    "    sns.pointplot(x=col_x, y=metric, hue=col_z, data=cv_results, ci=99, n_boot=64, ax=ax)\n",
    "    ax.set_title(\"CV Grid Search Results\")\n",
    "    ax.set_xlabel(param_x)\n",
    "    ax.set_ylabel(metric)\n",
    "    ax.legend(title=param_z)\n",
    "    return fig\n",
    "\n",
    "param_grid = {\n",
    "    'bootstrap': [True],\n",
    "    'max_depth': [2, 3, 4], \n",
    "    'min_samples_leaf': [2,3,4],\n",
    "    'min_samples_split': [5, 6, 7, 8],\n",
    "    'n_estimators': [100,150,200,250]\n",
    "}\n",
    "# Create a based model\n",
    "\n",
    "# Instantiate the grid search model\n",
    "grid_search = GridSearchCV(estimator = rf, param_grid = param_grid, \n",
    "                          cv = 6, n_jobs = -1, verbose = 2)\n",
    "\n",
    "grid_search.fit(X_train, y_train)\n",
    "print(grid_search.best_params_)\n",
    "\n",
    "#fig, axs = plt.subplots(figsize=(16, 5), ncols=4)\n",
    "\n",
    "\n",
    "print(mean_squared_error(y_test, grid_search.predict(X_test)))\n",
    "fig = plot_cv_results(grid_search.cv_results_, 'n_estimators', 'min_samples_split')"
   ]
  },
  {
   "cell_type": "code",
   "execution_count": 98,
   "metadata": {
    "ExecuteTime": {
     "end_time": "2021-04-16T12:17:19.674033Z",
     "start_time": "2021-04-16T12:17:19.486885Z"
    }
   },
   "outputs": [
    {
     "data": {
      "text/plain": [
       "Text(0, 0.5, 'Predictions')"
      ]
     },
     "execution_count": 98,
     "metadata": {},
     "output_type": "execute_result"
    },
    {
     "data": {
      "image/png": "[encoded data removed]",
      "text/plain": [
       "<Figure size 432x288 with 1 Axes>"
      ]
     },
     "metadata": {
      "needs_background": "light"
     },
     "output_type": "display_data"
    }
   ],
   "source": [
    "plt.scatter(y_test, grid_search.predict(X_test))\n",
    "plt.xlabel(\"True Values\")\n",
    "plt.ylabel(\"Predictions\")"
   ]
  },
  {
   "cell_type": "markdown",
   "metadata": {},
   "source": [
    "## MSE, Графики на кросс-вале"
   ]
  },
  {
   "cell_type": "code",
   "execution_count": 100,
   "metadata": {
    "ExecuteTime": {
     "end_time": "2021-04-16T12:32:33.252889Z",
     "start_time": "2021-04-16T12:19:29.600395Z"
    }
   },
   "outputs": [
    {
     "name": "stdout",
     "output_type": "stream",
     "text": [
      "Fitting 6 folds for each of 144 candidates, totalling 864 fits\n"
     ]
    },
    {
     "name": "stderr",
     "output_type": "stream",
     "text": [
      "[Parallel(n_jobs=-1)]: Using backend LokyBackend with 8 concurrent workers.\n",
      "[Parallel(n_jobs=-1)]: Done  25 tasks      | elapsed:    2.5s\n",
      "[Parallel(n_jobs=-1)]: Done 146 tasks      | elapsed:   14.5s\n",
      "[Parallel(n_jobs=-1)]: Done 349 tasks      | elapsed:   40.6s\n",
      "[Parallel(n_jobs=-1)]: Done 632 tasks      | elapsed:  1.4min\n",
      "[Parallel(n_jobs=-1)]: Done 864 out of 864 | elapsed:  2.1min finished\n"
     ]
    },
    {
     "name": "stdout",
     "output_type": "stream",
     "text": [
      "MSE : 1\n",
      "4.244195901756347\n",
      "Fitting 6 folds for each of 144 candidates, totalling 864 fits\n"
     ]
    },
    {
     "name": "stderr",
     "output_type": "stream",
     "text": [
      "[Parallel(n_jobs=-1)]: Using backend LokyBackend with 8 concurrent workers.\n",
      "[Parallel(n_jobs=-1)]: Done  25 tasks      | elapsed:    3.0s\n",
      "[Parallel(n_jobs=-1)]: Done 146 tasks      | elapsed:   17.8s\n",
      "[Parallel(n_jobs=-1)]: Done 349 tasks      | elapsed:   43.9s\n",
      "[Parallel(n_jobs=-1)]: Done 632 tasks      | elapsed:  1.5min\n",
      "[Parallel(n_jobs=-1)]: Done 864 out of 864 | elapsed:  2.1min finished\n"
     ]
    },
    {
     "name": "stdout",
     "output_type": "stream",
     "text": [
      "MSE : 2\n",
      "4.06205064142449\n",
      "Fitting 6 folds for each of 144 candidates, totalling 864 fits\n"
     ]
    },
    {
     "name": "stderr",
     "output_type": "stream",
     "text": [
      "[Parallel(n_jobs=-1)]: Using backend LokyBackend with 8 concurrent workers.\n",
      "[Parallel(n_jobs=-1)]: Done  25 tasks      | elapsed:    3.0s\n",
      "[Parallel(n_jobs=-1)]: Done 146 tasks      | elapsed:   17.6s\n",
      "[Parallel(n_jobs=-1)]: Done 349 tasks      | elapsed:   44.5s\n",
      "[Parallel(n_jobs=-1)]: Done 632 tasks      | elapsed:  1.4min\n",
      "[Parallel(n_jobs=-1)]: Done 864 out of 864 | elapsed:  2.1min finished\n"
     ]
    },
    {
     "name": "stdout",
     "output_type": "stream",
     "text": [
      "MSE : 3\n",
      "3.8204110514726417\n",
      "Fitting 6 folds for each of 144 candidates, totalling 864 fits\n"
     ]
    },
    {
     "name": "stderr",
     "output_type": "stream",
     "text": [
      "[Parallel(n_jobs=-1)]: Using backend LokyBackend with 8 concurrent workers.\n",
      "[Parallel(n_jobs=-1)]: Done  25 tasks      | elapsed:    3.0s\n",
      "[Parallel(n_jobs=-1)]: Done 146 tasks      | elapsed:   17.6s\n",
      "[Parallel(n_jobs=-1)]: Done 349 tasks      | elapsed:   44.7s\n",
      "[Parallel(n_jobs=-1)]: Done 632 tasks      | elapsed:  1.5min\n",
      "[Parallel(n_jobs=-1)]: Done 864 out of 864 | elapsed:  2.2min finished\n"
     ]
    },
    {
     "name": "stdout",
     "output_type": "stream",
     "text": [
      "MSE : 4\n",
      "3.8124447109473296\n",
      "Fitting 6 folds for each of 144 candidates, totalling 864 fits\n"
     ]
    },
    {
     "name": "stderr",
     "output_type": "stream",
     "text": [
      "[Parallel(n_jobs=-1)]: Using backend LokyBackend with 8 concurrent workers.\n",
      "[Parallel(n_jobs=-1)]: Done  25 tasks      | elapsed:    3.2s\n",
      "[Parallel(n_jobs=-1)]: Done 146 tasks      | elapsed:   19.1s\n",
      "[Parallel(n_jobs=-1)]: Done 349 tasks      | elapsed:   47.3s\n",
      "[Parallel(n_jobs=-1)]: Done 632 tasks      | elapsed:  1.6min\n",
      "[Parallel(n_jobs=-1)]: Done 864 out of 864 | elapsed:  2.3min finished\n"
     ]
    },
    {
     "name": "stdout",
     "output_type": "stream",
     "text": [
      "MSE : 5\n",
      "3.8381682797516414\n",
      "Fitting 6 folds for each of 144 candidates, totalling 864 fits\n"
     ]
    },
    {
     "name": "stderr",
     "output_type": "stream",
     "text": [
      "[Parallel(n_jobs=-1)]: Using backend LokyBackend with 8 concurrent workers.\n",
      "[Parallel(n_jobs=-1)]: Done  25 tasks      | elapsed:    3.1s\n",
      "[Parallel(n_jobs=-1)]: Done 146 tasks      | elapsed:   18.1s\n",
      "[Parallel(n_jobs=-1)]: Done 349 tasks      | elapsed:   46.2s\n",
      "[Parallel(n_jobs=-1)]: Done 632 tasks      | elapsed:  1.5min\n",
      "[Parallel(n_jobs=-1)]: Done 864 out of 864 | elapsed:  2.2min finished\n"
     ]
    },
    {
     "name": "stdout",
     "output_type": "stream",
     "text": [
      "MSE : 6\n",
      "3.7443469007641306\n"
     ]
    },
    {
     "data": {
      "image/png": "[encoded data removed]",
      "text/plain": [
       "<Figure size 800x640 with 6 Axes>"
      ]
     },
     "metadata": {
      "needs_background": "light"
     },
     "output_type": "display_data"
    }
   ],
   "source": [
    "from sklearn.model_selection import KFold\n",
    "kf = KFold(n_splits=6)\n",
    "kf.get_n_splits(X)\n",
    "\n",
    "\n",
    "plt.figure(figsize=(10,8), dpi= 80)\n",
    "\n",
    "i = 0\n",
    "for train_index, test_index in kf.split(X):\n",
    "    #print(\"TRAIN:\", train_index, \"TEST:\", test_index)\n",
    "    X_cross, X_test = X[train_index], X[test_index]\n",
    "    y_cross, y_test = y[train_index], y[test_index]\n",
    "    grid_search.fit(X_cross, y_cross)\n",
    "    print(\"MSE :\", i+1)\n",
    "    print(mean_squared_error(y_test, grid_search.predict(X_test)))\n",
    "    plt.subplot(321 + i)\n",
    "    plt.scatter(y_test, grid_search.predict(X_test))\n",
    "    i += 1\n",
    "    plt.xlabel(\"True Values\")\n",
    "    plt.ylabel(\"Predictions\")\n",
    "\n",
    "plt.show()\n"
   ]
  },
  {
   "cell_type": "markdown",
   "metadata": {},
   "source": [
    "# Catboost"
   ]
  },
  {
   "cell_type": "markdown",
   "metadata": {},
   "source": [
    "## Подбор гиперпараметров"
   ]
  },
  {
   "cell_type": "code",
   "execution_count": 101,
   "metadata": {
    "ExecuteTime": {
     "end_time": "2021-04-16T12:34:19.485850Z",
     "start_time": "2021-04-16T12:32:33.632168Z"
    }
   },
   "outputs": [
    {
     "name": "stdout",
     "output_type": "stream",
     "text": [
      "Fitting 6 folds for each of 18 candidates, totalling 108 fits\n"
     ]
    },
    {
     "name": "stderr",
     "output_type": "stream",
     "text": [
      "[Parallel(n_jobs=-1)]: Using backend LokyBackend with 8 concurrent workers.\n",
      "[Parallel(n_jobs=-1)]: Done  25 tasks      | elapsed:   24.1s\n",
      "[Parallel(n_jobs=-1)]: Done 108 out of 108 | elapsed:  1.7min finished\n"
     ]
    },
    {
     "name": "stdout",
     "output_type": "stream",
     "text": [
      "{'bagging_temperature': 0, 'bootstrap_type': 'Bayesian', 'learning_rate': 0.03}\n",
      "2.3164803862742573\n"
     ]
    },
    {
     "data": {
      "image/png": "[encoded data removed]",
      "text/plain": [
       "<Figure size 792x576 with 1 Axes>"
      ]
     },
     "metadata": {
      "needs_background": "light"
     },
     "output_type": "display_data"
    }
   ],
   "source": [
    "from catboost import CatBoostRegressor\n",
    "from sklearn.model_selection import cross_val_score\n",
    "# Create a based model\n",
    "cb = CatBoostRegressor(verbose=False)\n",
    "# Instantiate the grid search model\n",
    "param_grid = {\n",
    "    'learning_rate': [0.001, 0.003, 0.01, 0.03, 0.1, 0.3],\n",
    "    'bootstrap_type':['Bayesian'],\n",
    "    'bagging_temperature': [0, 1, 10]\n",
    "}\n",
    "grid_search = GridSearchCV(estimator = cb, param_grid = param_grid, \n",
    "                          cv = 6, n_jobs = -1, verbose = 2)\n",
    "\n",
    "grid_search.fit(X_train, y_train)\n",
    "print(grid_search.best_params_)\n",
    "\n",
    "#fig, axs = plt.subplots(figsize=(16, 5), ncols=4)\n",
    "\n",
    "print(mean_squared_error(y_test, grid_search.predict(X_test)))\n",
    "\n",
    "\n",
    "fig = plot_cv_results(grid_search.cv_results_, 'learning_rate', 'bagging_temperature')"
   ]
  },
  {
   "cell_type": "markdown",
   "metadata": {},
   "source": [
    "## Сделаем честный кросс-вал"
   ]
  },
  {
   "cell_type": "code",
   "execution_count": 102,
   "metadata": {
    "ExecuteTime": {
     "end_time": "2021-04-16T12:44:23.897207Z",
     "start_time": "2021-04-16T12:34:19.926671Z"
    }
   },
   "outputs": [
    {
     "name": "stdout",
     "output_type": "stream",
     "text": [
      "Fitting 6 folds for each of 18 candidates, totalling 108 fits\n"
     ]
    },
    {
     "name": "stderr",
     "output_type": "stream",
     "text": [
      "[Parallel(n_jobs=-1)]: Using backend LokyBackend with 8 concurrent workers.\n",
      "[Parallel(n_jobs=-1)]: Done  25 tasks      | elapsed:   27.7s\n",
      "[Parallel(n_jobs=-1)]: Done 108 out of 108 | elapsed:  1.7min finished\n"
     ]
    },
    {
     "name": "stdout",
     "output_type": "stream",
     "text": [
      "MSE : 1\n",
      "3.4488813068953634\n",
      "Fitting 6 folds for each of 18 candidates, totalling 108 fits\n"
     ]
    },
    {
     "name": "stderr",
     "output_type": "stream",
     "text": [
      "[Parallel(n_jobs=-1)]: Using backend LokyBackend with 8 concurrent workers.\n",
      "[Parallel(n_jobs=-1)]: Done  25 tasks      | elapsed:   22.5s\n",
      "[Parallel(n_jobs=-1)]: Done 108 out of 108 | elapsed:  1.7min finished\n"
     ]
    },
    {
     "name": "stdout",
     "output_type": "stream",
     "text": [
      "MSE : 2\n",
      "3.125933276666884\n",
      "Fitting 6 folds for each of 18 candidates, totalling 108 fits\n"
     ]
    },
    {
     "name": "stderr",
     "output_type": "stream",
     "text": [
      "[Parallel(n_jobs=-1)]: Using backend LokyBackend with 8 concurrent workers.\n",
      "[Parallel(n_jobs=-1)]: Done  25 tasks      | elapsed:   27.1s\n",
      "[Parallel(n_jobs=-1)]: Done 108 out of 108 | elapsed:  1.7min finished\n"
     ]
    },
    {
     "name": "stdout",
     "output_type": "stream",
     "text": [
      "MSE : 3\n",
      "2.9161864010359086\n",
      "Fitting 6 folds for each of 18 candidates, totalling 108 fits\n"
     ]
    },
    {
     "name": "stderr",
     "output_type": "stream",
     "text": [
      "[Parallel(n_jobs=-1)]: Using backend LokyBackend with 8 concurrent workers.\n",
      "[Parallel(n_jobs=-1)]: Done  25 tasks      | elapsed:   25.5s\n",
      "[Parallel(n_jobs=-1)]: Done 108 out of 108 | elapsed:  1.6min finished\n"
     ]
    },
    {
     "name": "stdout",
     "output_type": "stream",
     "text": [
      "MSE : 4\n",
      "3.0094243428276655\n",
      "Fitting 6 folds for each of 18 candidates, totalling 108 fits\n"
     ]
    },
    {
     "name": "stderr",
     "output_type": "stream",
     "text": [
      "[Parallel(n_jobs=-1)]: Using backend LokyBackend with 8 concurrent workers.\n",
      "[Parallel(n_jobs=-1)]: Done  25 tasks      | elapsed:   25.3s\n",
      "[Parallel(n_jobs=-1)]: Done 108 out of 108 | elapsed:  1.6min finished\n"
     ]
    },
    {
     "name": "stdout",
     "output_type": "stream",
     "text": [
      "MSE : 5\n",
      "3.0395635651240855\n",
      "Fitting 6 folds for each of 18 candidates, totalling 108 fits\n"
     ]
    },
    {
     "name": "stderr",
     "output_type": "stream",
     "text": [
      "[Parallel(n_jobs=-1)]: Using backend LokyBackend with 8 concurrent workers.\n",
      "[Parallel(n_jobs=-1)]: Done  25 tasks      | elapsed:   25.0s\n",
      "[Parallel(n_jobs=-1)]: Done 108 out of 108 | elapsed:  1.6min finished\n"
     ]
    },
    {
     "name": "stdout",
     "output_type": "stream",
     "text": [
      "MSE : 6\n",
      "3.0503412940089354\n"
     ]
    },
    {
     "data": {
      "image/png": "[encoded data removed]",
      "text/plain": [
       "<Figure size 800x640 with 6 Axes>"
      ]
     },
     "metadata": {
      "needs_background": "light"
     },
     "output_type": "display_data"
    }
   ],
   "source": [
    "import seaborn as sns\n",
    "from catboost import CatBoostRegressor\n",
    "from sklearn.model_selection import cross_val_score, KFold\n",
    "\n",
    "\n",
    "# Instantiate the grid search model\n",
    "\n",
    "kf = KFold(n_splits=6)\n",
    "kf.get_n_splits(X)\n",
    "\n",
    "\n",
    "plt.figure(figsize=(10,8), dpi= 80)\n",
    "\n",
    "i = 0\n",
    "for train_index, test_index in kf.split(X):\n",
    "    #print(\"TRAIN:\", train_index, \"TEST:\", test_index)\n",
    "    X_cross, X_test = X[train_index], X[test_index]\n",
    "    y_cross, y_test = y[train_index], y[test_index]\n",
    "    grid_search.fit(X_cross, y_cross)\n",
    "    print(\"MSE :\", i+1)\n",
    "    print(mean_squared_error(y_test, grid_search.predict(X_test)))\n",
    "    plt.subplot(321 + i)\n",
    "    plt.scatter(y_test, grid_search.predict(X_test))\n",
    "    i += 1\n",
    "    plt.xlabel(\"True Values\")\n",
    "    plt.ylabel(\"Predictions\")\n",
    "\n",
    "plt.show()\n"
   ]
  },
  {
   "cell_type": "markdown",
   "metadata": {},
   "source": [
    "# XGBoost"
   ]
  },
  {
   "cell_type": "markdown",
   "metadata": {},
   "source": [
    "## Подбор гиперпараметров"
   ]
  },
  {
   "cell_type": "code",
   "execution_count": 103,
   "metadata": {
    "ExecuteTime": {
     "end_time": "2021-04-16T12:44:49.578347Z",
     "start_time": "2021-04-16T12:44:24.498182Z"
    }
   },
   "outputs": [
    {
     "name": "stdout",
     "output_type": "stream",
     "text": [
      "Fitting 6 folds for each of 54 candidates, totalling 324 fits\n"
     ]
    },
    {
     "name": "stderr",
     "output_type": "stream",
     "text": [
      "[Parallel(n_jobs=-1)]: Using backend LokyBackend with 8 concurrent workers.\n",
      "[Parallel(n_jobs=-1)]: Done  25 tasks      | elapsed:    2.1s\n",
      "[Parallel(n_jobs=-1)]: Done 146 tasks      | elapsed:   10.8s\n",
      "[Parallel(n_jobs=-1)]: Done 324 out of 324 | elapsed:   23.3s finished\n"
     ]
    },
    {
     "name": "stdout",
     "output_type": "stream",
     "text": [
      "{'gamma': 0.3, 'max_depth': 3, 'min_child_weight': 3}\n",
      "2.5730851885836157\n"
     ]
    },
    {
     "data": {
      "image/png": "[encoded data removed]",
      "text/plain": [
       "<Figure size 792x576 with 1 Axes>"
      ]
     },
     "metadata": {
      "needs_background": "light"
     },
     "output_type": "display_data"
    }
   ],
   "source": [
    "from xgboost import XGBRegressor\n",
    "\n",
    "\n",
    "xgb = XGBRegressor(nthread=-1)\n",
    "\n",
    "param_grid = {\n",
    "    'max_depth': [2, 3, 4],\n",
    "    'min_child_weight':[1,2,3],\n",
    "    'gamma':[0.001, 0.003, 0.01, 0.03, 0.1, 0.3],\n",
    "}\n",
    "\n",
    "\n",
    "grid_search = GridSearchCV(estimator = xgb, param_grid = param_grid, \n",
    "                          cv = 6, n_jobs = -1, verbose = 2)\n",
    "\n",
    "grid_search.fit(X_train, y_train)\n",
    "print(grid_search.best_params_)\n",
    "\n",
    "#fig, axs = plt.subplots(figsize=(16, 5), ncols=4)\n",
    "\n",
    "print(mean_squared_error(y_test, grid_search.predict(X_test)))\n",
    "\n",
    "\n",
    "fig = plot_cv_results(grid_search.cv_results_, 'gamma', 'min_child_weight')\n"
   ]
  },
  {
   "cell_type": "markdown",
   "metadata": {},
   "source": [
    "## MSE, Графики cross-val"
   ]
  },
  {
   "cell_type": "code",
   "execution_count": 104,
   "metadata": {
    "ExecuteTime": {
     "end_time": "2021-04-16T12:47:09.485023Z",
     "start_time": "2021-04-16T12:44:50.331786Z"
    }
   },
   "outputs": [
    {
     "name": "stdout",
     "output_type": "stream",
     "text": [
      "Fitting 6 folds for each of 54 candidates, totalling 324 fits\n"
     ]
    },
    {
     "name": "stderr",
     "output_type": "stream",
     "text": [
      "[Parallel(n_jobs=-1)]: Using backend LokyBackend with 8 concurrent workers.\n",
      "[Parallel(n_jobs=-1)]: Done  25 tasks      | elapsed:    1.4s\n",
      "[Parallel(n_jobs=-1)]: Done 146 tasks      | elapsed:    9.8s\n",
      "[Parallel(n_jobs=-1)]: Done 324 out of 324 | elapsed:   22.0s finished\n"
     ]
    },
    {
     "name": "stdout",
     "output_type": "stream",
     "text": [
      "MSE : 1\n",
      "3.5623615827766177\n",
      "Fitting 6 folds for each of 54 candidates, totalling 324 fits\n"
     ]
    },
    {
     "name": "stderr",
     "output_type": "stream",
     "text": [
      "[Parallel(n_jobs=-1)]: Using backend LokyBackend with 8 concurrent workers.\n",
      "[Parallel(n_jobs=-1)]: Done  25 tasks      | elapsed:    1.6s\n",
      "[Parallel(n_jobs=-1)]: Done 146 tasks      | elapsed:    9.5s\n",
      "[Parallel(n_jobs=-1)]: Done 324 out of 324 | elapsed:   22.7s finished\n"
     ]
    },
    {
     "name": "stdout",
     "output_type": "stream",
     "text": [
      "MSE : 2\n",
      "3.1243400598730457\n",
      "Fitting 6 folds for each of 54 candidates, totalling 324 fits\n"
     ]
    },
    {
     "name": "stderr",
     "output_type": "stream",
     "text": [
      "[Parallel(n_jobs=-1)]: Using backend LokyBackend with 8 concurrent workers.\n",
      "[Parallel(n_jobs=-1)]: Done  25 tasks      | elapsed:    1.6s\n",
      "[Parallel(n_jobs=-1)]: Done 146 tasks      | elapsed:   10.1s\n",
      "[Parallel(n_jobs=-1)]: Done 324 out of 324 | elapsed:   22.1s finished\n"
     ]
    },
    {
     "name": "stdout",
     "output_type": "stream",
     "text": [
      "MSE : 3\n",
      "2.932415432335353\n",
      "Fitting 6 folds for each of 54 candidates, totalling 324 fits\n"
     ]
    },
    {
     "name": "stderr",
     "output_type": "stream",
     "text": [
      "[Parallel(n_jobs=-1)]: Using backend LokyBackend with 8 concurrent workers.\n",
      "[Parallel(n_jobs=-1)]: Done  25 tasks      | elapsed:    1.7s\n",
      "[Parallel(n_jobs=-1)]: Done 146 tasks      | elapsed:    9.5s\n",
      "[Parallel(n_jobs=-1)]: Done 324 out of 324 | elapsed:   21.7s finished\n"
     ]
    },
    {
     "name": "stdout",
     "output_type": "stream",
     "text": [
      "MSE : 4\n",
      "2.9900777169329418\n",
      "Fitting 6 folds for each of 54 candidates, totalling 324 fits\n"
     ]
    },
    {
     "name": "stderr",
     "output_type": "stream",
     "text": [
      "[Parallel(n_jobs=-1)]: Using backend LokyBackend with 8 concurrent workers.\n",
      "[Parallel(n_jobs=-1)]: Done  25 tasks      | elapsed:    1.5s\n",
      "[Parallel(n_jobs=-1)]: Done 146 tasks      | elapsed:   10.4s\n",
      "[Parallel(n_jobs=-1)]: Done 324 out of 324 | elapsed:   23.6s finished\n"
     ]
    },
    {
     "name": "stdout",
     "output_type": "stream",
     "text": [
      "MSE : 5\n",
      "3.0220215202239404\n",
      "Fitting 6 folds for each of 54 candidates, totalling 324 fits\n"
     ]
    },
    {
     "name": "stderr",
     "output_type": "stream",
     "text": [
      "[Parallel(n_jobs=-1)]: Using backend LokyBackend with 8 concurrent workers.\n",
      "[Parallel(n_jobs=-1)]: Done  25 tasks      | elapsed:    1.9s\n",
      "[Parallel(n_jobs=-1)]: Done 146 tasks      | elapsed:    9.8s\n",
      "[Parallel(n_jobs=-1)]: Done 324 out of 324 | elapsed:   24.2s finished\n"
     ]
    },
    {
     "name": "stdout",
     "output_type": "stream",
     "text": [
      "MSE : 6\n",
      "3.032260118325507\n"
     ]
    },
    {
     "data": {
      "image/png": "[encoded data removed]",
      "text/plain": [
       "<Figure size 800x640 with 6 Axes>"
      ]
     },
     "metadata": {
      "needs_background": "light"
     },
     "output_type": "display_data"
    }
   ],
   "source": [
    "\n",
    "kf = KFold(n_splits=6)\n",
    "kf.get_n_splits(X)\n",
    "\n",
    "\n",
    "plt.figure(figsize=(10,8), dpi= 80)\n",
    "\n",
    "i = 0\n",
    "for train_index, test_index in kf.split(X):\n",
    "    #print(\"TRAIN:\", train_index, \"TEST:\", test_index)\n",
    "    X_cross, X_test = X[train_index], X[test_index]\n",
    "    y_cross, y_test = y[train_index], y[test_index]\n",
    "    grid_search.fit(X_cross, y_cross)\n",
    "    print(\"MSE :\", i+1)\n",
    "    print(mean_squared_error(y_test, grid_search.predict(X_test)))\n",
    "    plt.subplot(321 + i)\n",
    "    plt.scatter(y_test, grid_search.predict(X_test))\n",
    "    i += 1\n",
    "    plt.xlabel(\"True Values\")\n",
    "    plt.ylabel(\"Predictions\")\n",
    "\n",
    "plt.show()"
   ]
  },
  {
   "cell_type": "code",
   "execution_count": null,
   "metadata": {},
   "outputs": [],
   "source": []
  }
 ],
 "metadata": {
  "kernelspec": {
   "display_name": "Python 3",
   "language": "python",
   "name": "python3"
  },
  "language_info": {
   "codemirror_mode": {
    "name": "ipython",
    "version": 3
   },
   "file_extension": ".py",
   "mimetype": "text/x-python",
   "name": "python",
   "nbconvert_exporter": "python",
   "pygments_lexer": "ipython3",
   "version": "3.8.3"
  },
  "nbTranslate": {
   "displayLangs": [
    "*"
   ],
   "hotkey": "alt-t",
   "langInMainMenu": true,
   "sourceLang": "en",
   "targetLang": "fr",
   "useGoogleTranslate": true
  },
  "varInspector": {
   "cols": {
    "lenName": 16,
    "lenType": 16,
    "lenVar": 40
   },
   "kernels_config": {
    "python": {
     "delete_cmd_postfix": "",
     "delete_cmd_prefix": "del ",
     "library": "var_list.py",
     "varRefreshCmd": "print(var_dic_list())"
    },
    "r": {
     "delete_cmd_postfix": ") ",
     "delete_cmd_prefix": "rm(",
     "library": "var_list.r",
     "varRefreshCmd": "cat(var_dic_list()) "
    }
   },
   "types_to_exclude": [
    "module",
    "function",
    "builtin_function_or_method",
    "instance",
    "_Feature"
   ],
   "window_display": false
  }
 },
 "nbformat": 4,
 "nbformat_minor": 4
}
